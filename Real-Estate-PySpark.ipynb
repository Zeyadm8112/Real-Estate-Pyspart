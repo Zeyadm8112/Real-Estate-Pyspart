{
 "cells": [
  {
   "cell_type": "markdown",
   "id": "3ffd0667-8934-4520-b3cf-663469344084",
   "metadata": {},
   "source": [
    "### Imports"
   ]
  },
  {
   "cell_type": "code",
   "execution_count": 34,
   "id": "ed5e9173-2c76-4ec5-9739-92b83f6865e1",
   "metadata": {},
   "outputs": [],
   "source": [
    "import pyspark\n",
    "from pyspark.sql import SparkSession \n",
    "from pyspark.sql.functions import col, lit, when, isnan, count, mean, stddev, corr, expr\n",
    "from pyspark.sql.functions import col, sum as _sum, when,month,to_date,corr,year, avg"
   ]
  },
  {
   "cell_type": "markdown",
   "id": "f6f4d82d-4b2e-4c94-9bfe-6f5a6ee30106",
   "metadata": {},
   "source": [
    "---"
   ]
  },
  {
   "cell_type": "markdown",
   "id": "79df8b15-ef2f-402b-bb2c-0a6bdd2141ec",
   "metadata": {},
   "source": [
    "### Intializing Spark Session"
   ]
  },
  {
   "cell_type": "code",
   "execution_count": 36,
   "id": "27289102-9f47-47e9-b0cb-258e59351bf2",
   "metadata": {},
   "outputs": [],
   "source": [
    "spark = SparkSession.builder.appName(\"RealEstate\").getOrCreate()"
   ]
  },
  {
   "cell_type": "code",
   "execution_count": 38,
   "id": "8e780288-4274-49f2-8bca-d576f2ce16ff",
   "metadata": {},
   "outputs": [],
   "source": [
    "df = spark.read.csv(\"Real_Estate_Sales_2001-2022_GL.csv\",header=True,inferSchema=True)"
   ]
  },
  {
   "cell_type": "markdown",
   "id": "9934010d-6650-4d8e-abcc-421f705a0091",
   "metadata": {},
   "source": [
    "---"
   ]
  },
  {
   "cell_type": "markdown",
   "id": "c4990809-a879-4cc1-aec4-4463743484ad",
   "metadata": {},
   "source": [
    "### Data Exploration"
   ]
  },
  {
   "cell_type": "code",
   "execution_count": 42,
   "id": "42870ca9-5a6f-44da-8d39-87ba34c69b39",
   "metadata": {},
   "outputs": [
    {
     "name": "stdout",
     "output_type": "stream",
     "text": [
      "root\n",
      " |-- Serial Number: integer (nullable = true)\n",
      " |-- List Year: integer (nullable = true)\n",
      " |-- Date Recorded: string (nullable = true)\n",
      " |-- Town: string (nullable = true)\n",
      " |-- Address: string (nullable = true)\n",
      " |-- Assessed Value: double (nullable = true)\n",
      " |-- Sale Amount: double (nullable = true)\n",
      " |-- Sales Ratio: double (nullable = true)\n",
      " |-- Property Type: string (nullable = true)\n",
      " |-- Residential Type: string (nullable = true)\n",
      " |-- Non Use Code: string (nullable = true)\n",
      " |-- Assessor Remarks: string (nullable = true)\n",
      " |-- OPM remarks: string (nullable = true)\n",
      " |-- Location: string (nullable = true)\n",
      "\n"
     ]
    }
   ],
   "source": [
    "df.printSchema()"
   ]
  },
  {
   "cell_type": "code",
   "execution_count": 44,
   "id": "923e11b2-d29e-46a3-9880-cdf32be59916",
   "metadata": {},
   "outputs": [
    {
     "data": {
      "text/plain": [
       "1097629"
      ]
     },
     "execution_count": 44,
     "metadata": {},
     "output_type": "execute_result"
    }
   ],
   "source": [
    "df.count()"
   ]
  },
  {
   "cell_type": "code",
   "execution_count": 48,
   "id": "25a37b4b-3a06-4488-8ec6-bc64e64421a1",
   "metadata": {},
   "outputs": [
    {
     "data": {
      "text/plain": [
       "[('Serial Number', 'int'),\n",
       " ('List Year', 'int'),\n",
       " ('Date Recorded', 'string'),\n",
       " ('Town', 'string'),\n",
       " ('Address', 'string'),\n",
       " ('Assessed Value', 'double'),\n",
       " ('Sale Amount', 'double'),\n",
       " ('Sales Ratio', 'double'),\n",
       " ('Property Type', 'string'),\n",
       " ('Residential Type', 'string'),\n",
       " ('Non Use Code', 'string'),\n",
       " ('Assessor Remarks', 'string'),\n",
       " ('OPM remarks', 'string'),\n",
       " ('Location', 'string')]"
      ]
     },
     "execution_count": 48,
     "metadata": {},
     "output_type": "execute_result"
    }
   ],
   "source": [
    "df.dtypes"
   ]
  },
  {
   "cell_type": "code",
   "execution_count": 50,
   "id": "a7a439fe-2349-4b12-8216-d78cab1dd4d6",
   "metadata": {},
   "outputs": [
    {
     "data": {
      "text/plain": [
       "Row(Serial Number=2020177, List Year=2020, Date Recorded='04/14/2021', Town='Ansonia', Address='323 BEAVER ST', Assessed Value=133000.0, Sale Amount=248400.0, Sales Ratio=0.5354, Property Type='Residential', Residential Type='Single Family', Non Use Code=None, Assessor Remarks=None, OPM remarks=None, Location='POINT (-73.06822 41.35014)')"
      ]
     },
     "execution_count": 50,
     "metadata": {},
     "output_type": "execute_result"
    }
   ],
   "source": [
    "df.head()"
   ]
  },
  {
   "cell_type": "markdown",
   "id": "af4fc6ec-ece2-4486-a7f6-dc1b126f437b",
   "metadata": {},
   "source": [
    "---"
   ]
  },
  {
   "cell_type": "markdown",
   "id": "e88089cd-07e9-4212-a22f-bfccfa4db2e9",
   "metadata": {},
   "source": [
    "### Data Cleansing"
   ]
  },
  {
   "cell_type": "code",
   "execution_count": 52,
   "id": "18caf2ef-7a7e-43a5-8817-70dfc94c6f76",
   "metadata": {},
   "outputs": [],
   "source": [
    "# drop rows that have column date Recoreded is null\n",
    "clean_df=df.na.drop(subset=['Date Recorded'])"
   ]
  },
  {
   "cell_type": "code",
   "execution_count": 54,
   "id": "2c8c8ab4-b616-4941-a7ce-fcf3036e3b32",
   "metadata": {},
   "outputs": [],
   "source": [
    "# drop rows that have column Address is null\n",
    "clean_df=df.na.drop(subset=['Address'])"
   ]
  },
  {
   "cell_type": "code",
   "execution_count": 56,
   "id": "ec03b82a-2cb3-426e-b089-4de7bd7be9d9",
   "metadata": {},
   "outputs": [],
   "source": [
    "# drop the single row that has neither assessed value nor sale amount nor sales ratio\n",
    "clean_df = clean_df.na.drop(subset=[\"Assessed Value\",\"Sale Amount\"])\n",
    "\n"
   ]
  },
  {
   "cell_type": "code",
   "execution_count": 64,
   "id": "8ddbbebe-3380-4e58-a041-9322b1105281",
   "metadata": {},
   "outputs": [],
   "source": [
    "# fill Column Property Type null values with \"Undefined\"\n",
    "clean_df= clean_df.na.fill({'Property Type':'Undefined'})"
   ]
  },
  {
   "cell_type": "code",
   "execution_count": 62,
   "id": "bae947e4-9b80-4548-bf66-49a72691370b",
   "metadata": {},
   "outputs": [],
   "source": [
    "# fill Column Residential Type  null values with \"Undefined\"\n",
    "clean_df= clean_df.na.fill({'Residential Type':'Undefined'})"
   ]
  },
  {
   "cell_type": "code",
   "execution_count": 66,
   "id": "ee67186a-7346-45b9-925e-4ae79e13c7d9",
   "metadata": {},
   "outputs": [],
   "source": [
    "# fill Column Non Use Code null values with \"Undefined\"\n",
    "clean_df= clean_df.na.fill({'Non Use Code':'Undefined'})"
   ]
  },
  {
   "cell_type": "code",
   "execution_count": 68,
   "id": "e47b5b64-c74d-4d9f-a871-865efa73a197",
   "metadata": {},
   "outputs": [],
   "source": [
    "# fill Column Assessor Remarks null values with \"Undefined\"\n",
    "clean_df= clean_df.na.fill({'Assessor Remarks':'None'})"
   ]
  },
  {
   "cell_type": "code",
   "execution_count": 70,
   "id": "e6f21834-5b2f-4ee1-b6bd-26b1a5a8a21d",
   "metadata": {},
   "outputs": [],
   "source": [
    "# fill Column OPM remarks null values with \"Undefined\"\n",
    "clean_df= clean_df.na.fill({'OPM remarks':'None'})"
   ]
  },
  {
   "cell_type": "code",
   "execution_count": 72,
   "id": "078f50ff-7448-47b5-97fd-6742fe9459bb",
   "metadata": {},
   "outputs": [],
   "source": [
    "# fill Column Location null values with \"Undefined\"\n",
    "clean_df= clean_df.na.fill({'Location':'Unknown'})"
   ]
  },
  {
   "cell_type": "code",
   "execution_count": 74,
   "id": "51f058aa-8d60-40fa-9f52-47eca7e6a38f",
   "metadata": {},
   "outputs": [
    {
     "name": "stdout",
     "output_type": "stream",
     "text": [
      "+-------------------+---------------+-------------------+----------+-------------+--------------------+-----------------+-----------------+-------------------+----------------------+------------------+----------------------+-----------------+--------------+\n",
      "|Serial Number_nulls|List Year_nulls|Date Recorded_nulls|Town_nulls|Address_nulls|Assessed Value_nulls|Sale Amount_nulls|Sales Ratio_nulls|Property Type_nulls|Residential Type_nulls|Non Use Code_nulls|Assessor Remarks_nulls|OPM remarks_nulls|Location_nulls|\n",
      "+-------------------+---------------+-------------------+----------+-------------+--------------------+-----------------+-----------------+-------------------+----------------------+------------------+----------------------+-----------------+--------------+\n",
      "|                  0|              0|                  0|         0|            0|                   0|                0|                0|                  0|                     0|                 0|                     0|                0|             0|\n",
      "+-------------------+---------------+-------------------+----------+-------------+--------------------+-----------------+-----------------+-------------------+----------------------+------------------+----------------------+-----------------+--------------+\n",
      "\n"
     ]
    }
   ],
   "source": [
    "#checking if there are any null values left\n",
    "clean_df.select([\n",
    "    _sum(when(col(c).isNull(), 1).otherwise(0)).alias(c + \"_nulls\")\n",
    "    for c in df.columns\n",
    "]).show()"
   ]
  },
  {
   "cell_type": "code",
   "execution_count": 76,
   "id": "10d487af-d1c1-4d23-87b8-a88501c2f2bb",
   "metadata": {},
   "outputs": [],
   "source": [
    "#dropping duplicated rows\n",
    "clean_df=clean_df.dropDuplicates()"
   ]
  },
  {
   "cell_type": "code",
   "execution_count": 78,
   "id": "827895d7-a1f8-4e9b-abd3-bb7381ef8191",
   "metadata": {},
   "outputs": [],
   "source": [
    "#delete sales amount values = 0\n",
    "clean_df=clean_df.filter(col(\"Sale Amount\") != 0.0)\n"
   ]
  },
  {
   "cell_type": "code",
   "execution_count": 84,
   "id": "c8c5c093-6911-4510-a19b-227468cd0ba8",
   "metadata": {},
   "outputs": [],
   "source": [
    "#drop incorrect sale price\n",
    "clean_df = clean_df.filter(clean_df[\"OPM remarks\"] != \"INCORRECT SALE PRICE\")\n"
   ]
  },
  {
   "cell_type": "markdown",
   "id": "3ba756e2-49be-42d1-99ee-60af70420686",
   "metadata": {},
   "source": [
    "----------------------------------------------------------------------------------------------------------------"
   ]
  },
  {
   "cell_type": "markdown",
   "id": "18292ff4-8c2e-4a6c-9ea7-7610c916fafc",
   "metadata": {},
   "source": [
    "## Questions \n"
   ]
  },
  {
   "cell_type": "markdown",
   "id": "0d2ce948-938d-457e-93a5-2147ae1f6e56",
   "metadata": {},
   "source": [
    "####  **1. What are the highest and lowest sale amounts recorded, and which properties correspond to these sales?**"
   ]
  },
  {
   "cell_type": "code",
   "execution_count": 86,
   "id": "7f269b9f-27ea-4f1c-91fb-3ff7d591c913",
   "metadata": {
    "scrolled": true
   },
   "outputs": [
    {
     "name": "stdout",
     "output_type": "stream",
     "text": [
      "+-------------+---------+-------------+-------+---------------+--------------+-----------+-----------+-------------+----------------+------------+----------------+-----------+--------------------+\n",
      "|Serial Number|List Year|Date Recorded|   Town|        Address|Assessed Value|Sale Amount|Sales Ratio|Property Type|Residential Type|Non Use Code|Assessor Remarks|OPM remarks|            Location|\n",
      "+-------------+---------+-------------+-------+---------------+--------------+-----------+-----------+-------------+----------------+------------+----------------+-----------+--------------------+\n",
      "|        31255|     2003|   07/22/2004|Bristol|66 EMMETT ST 12|        9520.0|        1.0|     9520.0|    Undefined|       Undefined|           3|            None|       None|POINT (-72.91363 ...|\n",
      "+-------------+---------+-------------+-------+---------------+--------------+-----------+-----------+-------------+----------------+------------+----------------+-----------+--------------------+\n",
      "\n",
      "+-------------+---------+-------------+--------+--------------------+--------------+-----------+-----------+-------------+----------------+------------+--------------------+-----------+--------+\n",
      "|Serial Number|List Year|Date Recorded|    Town|             Address|Assessed Value|Sale Amount|Sales Ratio|Property Type|Residential Type|Non Use Code|    Assessor Remarks|OPM remarks|Location|\n",
      "+-------------+---------+-------------+--------+--------------------+--------------+-----------+-----------+-------------+----------------+------------+--------------------+-----------+--------+\n",
      "|       160391|     2016|   12/06/2016|Stamford|200 HENRY STREET # 5|     3307410.0|    3.955E8|0.008362604|    Undefined|       Undefined|  25 - Other|ENTERPRISE ZONE &...|       None| Unknown|\n",
      "+-------------+---------+-------------+--------+--------------------+--------------+-----------+-----------+-------------+----------------+------------+--------------------+-----------+--------+\n",
      "\n"
     ]
    }
   ],
   "source": [
    "\n",
    "# Lowest:\n",
    "lowest_sale = clean_df.orderBy(col(\"Sale Amount\").asc()).limit(1)\n",
    "lowest_sale.show()\n",
    "\n",
    "#Highest\n",
    "highest_sale = clean_df.orderBy(col(\"Sale Amount\").desc()).limit(1)\n",
    "highest_sale.show()"
   ]
  },
  {
   "cell_type": "markdown",
   "id": "5338f596-de75-4145-b376-173a4fa55b7c",
   "metadata": {},
   "source": [
    "\n",
    "- 🚩 **Lowest:** **$1**\n",
    "     \n",
    "- 🚀 **Highest:** **$395M** "
   ]
  },
  {
   "cell_type": "markdown",
   "id": "71a0cc1a-705f-4880-8f5d-2bb87ae171a5",
   "metadata": {},
   "source": [
    "#### 2: What is the average sale price per town and per list year?"
   ]
  },
  {
   "cell_type": "code",
   "execution_count": 87,
   "id": "6486d4da-ea91-4482-a5d8-f1137404a54b",
   "metadata": {},
   "outputs": [
    {
     "name": "stdout",
     "output_type": "stream",
     "text": [
      "+------------+---------+------------------+\n",
      "|        Town|List Year|  avg(Sale Amount)|\n",
      "+------------+---------+------------------+\n",
      "|Old Saybrook|     2021| 722761.7075098815|\n",
      "|    Brooklyn|     2002| 146965.0909090909|\n",
      "|      Goshen|     2021| 489993.0714285714|\n",
      "|     Hampton|     2002|195578.57142857142|\n",
      "|      Hamden|     2010|238599.57248157248|\n",
      "|     Sherman|     2004|487318.57843137253|\n",
      "|    Eastford|     2006|215854.54545454544|\n",
      "|  Colchester|     2010|240234.11282051282|\n",
      "| Marlborough|     2010|311928.62903225806|\n",
      "| Bridgewater|     2008|          465852.4|\n",
      "|     Windsor|     2010|217862.45307443367|\n",
      "|     Chaplin|     2011|163904.42105263157|\n",
      "|     Andover|     2013| 208191.4054054054|\n",
      "|   Killingly|     2015| 148198.4520884521|\n",
      "|   Newington|     2013| 254211.3947368421|\n",
      "|  Canterbury|     2016|171004.09473684212|\n",
      "|  Stonington|     2016|407765.03855421685|\n",
      "|     Milford|     2019|463499.32117134565|\n",
      "|  Rocky Hill|     2019|369088.49159663863|\n",
      "|   Colebrook|     2022|          312825.0|\n",
      "+------------+---------+------------------+\n",
      "only showing top 20 rows\n",
      "\n"
     ]
    }
   ],
   "source": [
    "clean_df.groupBy(\"Town\", \"List Year\").agg({\"Sale Amount\": \"avg\"}).show()\n"
   ]
  },
  {
   "cell_type": "markdown",
   "id": "175e0c1d-adf0-49df-ac19-f0e2a4fae76b",
   "metadata": {},
   "source": [
    "- 📍 Town & year show wide price spread\n",
    "  \n",
    "- 💰 Old Saybrook (2021): **$722K** tops\n",
    "  \n",
    "- 🏘️ Brooklyn (2002): **$147K** near bottom "
   ]
  },
  {
   "cell_type": "markdown",
   "id": "38bd1bb3-8a0a-4b3c-8814-12d59c44ab34",
   "metadata": {},
   "source": [
    "#### 3. Are there any seasonal trends in sales prices or volumes based on the `Date Recorded`?\n"
   ]
  },
  {
   "cell_type": "code",
   "execution_count": 93,
   "id": "f91cbf3d-5392-434f-9c1a-7eca80567a06",
   "metadata": {},
   "outputs": [
    {
     "name": "stdout",
     "output_type": "stream",
     "text": [
      "+-----+------------------+--------+\n",
      "|Month|  avg(Sale Amount)|count(1)|\n",
      "+-----+------------------+--------+\n",
      "|   12| 464528.2116375185|   91315|\n",
      "|    1| 416265.9668819175|   69841|\n",
      "|    6|419820.59928444953|  112948|\n",
      "|    3| 371954.4099401002|   79466|\n",
      "|    5| 384871.6408424889|   96298|\n",
      "|    9|  384995.265380036|   94741|\n",
      "|    4|385795.37078191026|   83539|\n",
      "|    8|417736.80124969705|  111387|\n",
      "|    7|424230.67889088974|  111621|\n",
      "|   10| 375143.5129536248|   96776|\n",
      "|   11|  376870.861590956|   87174|\n",
      "|    2| 369153.5392474376|   60686|\n",
      "+-----+------------------+--------+\n",
      "\n"
     ]
    }
   ],
   "source": [
    "clean_df= clean_df.withColumn(\"Date Recorded\", to_date(\"Date Recorded\", \"M/d/yyyy\"))\n",
    "clean_df.withColumn(\"Month\", month(\"Date Recorded\")) \\\n",
    "  .groupBy(\"Month\") \\\n",
    "  .agg({\"Sale Amount\": \"avg\", \"*\": \"count\"}) \\\n",
    "  .show()"
   ]
  },
  {
   "cell_type": "markdown",
   "id": "754c241e-2c13-45e2-9e24-fb44f810059e",
   "metadata": {},
   "source": [
    "- 📈 Dec peaks: avg sale ~$465K, highest volume (91K+)\n",
    "   \n",
    "- 📉 Early year dips: Feb/Mar lowest avg & count\n",
    "\n",
    "  \n",
    "- 🏖️ Summer steady sales, mid $410K avg "
   ]
  },
  {
   "cell_type": "markdown",
   "id": "c7041315-1f39-4b50-abb1-0b78fbe1dbb8",
   "metadata": {},
   "source": [
    "#### 4. Which towns have the highest sales volumes and total sales values?"
   ]
  },
  {
   "cell_type": "code",
   "execution_count": 97,
   "id": "095515c5-6853-4181-be06-cf68cb42089b",
   "metadata": {},
   "outputs": [
    {
     "name": "stdout",
     "output_type": "stream",
     "text": [
      "+-------------+-------------------+--------+\n",
      "|         Town|   sum(Sale Amount)|count(1)|\n",
      "+-------------+-------------------+--------+\n",
      "|    Greenwich|  3.866514031028E10|   18336|\n",
      "|     Stamford|  3.309213793942E10|   36623|\n",
      "|      Norwalk|  1.677263746667E10|   26926|\n",
      "|     Westport|  1.533676587385E10|   10262|\n",
      "|    Fairfield|  1.325577345632E10|   17913|\n",
      "|       Darien|    1.1670422931E10|    7287|\n",
      "|   New Canaan|    1.0941894536E10|    7071|\n",
      "|      Danbury|    8.87083532432E9|   21884|\n",
      "|West Hartford|    8.26555080984E9|   22096|\n",
      "|   Bridgeport|      8.028362582E9|   38122|\n",
      "|    New Haven|      7.106383588E9|   23696|\n",
      "|      Milford|    6.52868400562E9|   18569|\n",
      "|   Ridgefield|      6.440289611E9|    8596|\n",
      "|    Waterbury|      5.946213551E9|   32652|\n",
      "|    Stratford|      5.646381156E9|   18504|\n",
      "|       Wilton|5.528056068620001E9|    6008|\n",
      "|     Hartford|      5.330687452E9|   19593|\n",
      "|       Hamden|      5.265019427E9|   18499|\n",
      "|  Glastonbury|      5.193040475E9|   12512|\n",
      "|      Shelton|    4.89720446036E9|   12442|\n",
      "+-------------+-------------------+--------+\n",
      "only showing top 20 rows\n",
      "\n"
     ]
    }
   ],
   "source": [
    "clean_df.groupBy(\"Town\") \\\n",
    "  .agg({\"Sale Amount\": \"sum\", \"*\": \"count\"}) \\\n",
    "  .orderBy(\"sum(Sale Amount)\", ascending=False) \\\n",
    "  .show()"
   ]
  },
  {
   "cell_type": "markdown",
   "id": "7f0eead6-ac5f-45ac-a5e7-7826cc305982",
   "metadata": {},
   "source": [
    "- 🏆 Greenwich leads: $38.7B total, 18K+ sales \n",
    " \n",
    "- Stamford close: $33.1B, 36K+ sales\n",
    "\n",
    "- Norwalk & Westport also strong in value & count\n",
    "\n",
    "- Big cities dominate both volume & total sales"
   ]
  },
  {
   "cell_type": "markdown",
   "id": "8e625aad-aa30-4886-9d5c-8fb7ab45c502",
   "metadata": {},
   "source": [
    "#### 5. How does the sale amount correlate with the assessed value across different towns and property types?"
   ]
  },
  {
   "cell_type": "code",
   "execution_count": 98,
   "id": "66114c24-cf9b-4109-a164-e49c8accdd79",
   "metadata": {},
   "outputs": [
    {
     "name": "stdout",
     "output_type": "stream",
     "text": [
      "+------------+-------------+--------------------+\n",
      "|        Town|Property Type|         correlation|\n",
      "+------------+-------------+--------------------+\n",
      "|     Meriden|  Residential| 0.22430143838731906|\n",
      "|Old Saybrook|    Undefined|   0.680084384246063|\n",
      "|    Guilford|  Vacant Land|  0.9270274195322484|\n",
      "|      Lisbon|  Vacant Land|  0.8051182179351708|\n",
      "|       Salem|  Vacant Land|-0.12196273821951283|\n",
      "|  Bridgeport|  Vacant Land|  0.9631727756450098|\n",
      "|      Bozrah|   Industrial|  0.8379529657885672|\n",
      "|     Bristol|   Industrial| 0.31240776790964764|\n",
      "|   East Lyme|        Condo| 0.07800033286234526|\n",
      "|   Ellington|  Four Family|                 1.0|\n",
      "|   Fairfield| Three Family| 0.15949941727762226|\n",
      "|  Bloomfield|   Two Family|   0.695558911280118|\n",
      "|  Manchester|  Residential|  0.8170254878324427|\n",
      "|  West Haven|  Residential| 0.16871428262274815|\n",
      "|  West Haven|    Undefined| 0.42503649293302603|\n",
      "|  Rocky Hill|    Undefined|  0.8499447302080924|\n",
      "|     Norfolk|    Undefined|  0.2615991500270722|\n",
      "|  Farmington|  Vacant Land| -0.1522186732255132|\n",
      "|      Granby|   Commercial|  0.9361892140918268|\n",
      "| Wallingford|   Apartments|  0.9853623769376771|\n",
      "+------------+-------------+--------------------+\n",
      "only showing top 20 rows\n",
      "\n"
     ]
    }
   ],
   "source": [
    "clean_df.groupBy(\"Town\", \"Property Type\") \\\n",
    "  .agg(corr(\"Sale Amount\", \"Assessed Value\").alias(\"correlation\")) \\\n",
    "  .show()"
   ]
  },
  {
   "cell_type": "markdown",
   "id": "eed64ddb-4b65-49a0-a037-f4a70b40f811",
   "metadata": {},
   "source": [
    "- Strongest: Apartments (Wallingford, 0.99), Vacant Land (Bridgeport, 0.96)\n",
    "  \n",
    "- Moderate: Residential varies (e.g., Meriden 0.22, Manchester 0.82)\n",
    "\n",
    "   \n",
    "- Some negative/weak correlations in Vacant Land & others\n",
    "\n",
    "  \n",
    "- Correlation depends heavily on property type and town\n",
    "\n",
    "\n",
    "\n",
    "\n",
    "\n",
    "\n"
   ]
  },
  {
   "cell_type": "markdown",
   "id": "74cfaa33-a133-4c3e-9fbb-c11a36adbf3d",
   "metadata": {},
   "source": [
    "#### 6. What are the average sale prices for different property types and residential types?"
   ]
  },
  {
   "cell_type": "code",
   "execution_count": 102,
   "id": "02e1b69f-3625-4a42-a3bc-a25f3f55b585",
   "metadata": {},
   "outputs": [
    {
     "name": "stdout",
     "output_type": "stream",
     "text": [
      "+--------------+----------------+------------------+\n",
      "| Property Type|Residential Type|  avg(Sale Amount)|\n",
      "+--------------+----------------+------------------+\n",
      "|    Apartments|       Undefined|2947209.3846153845|\n",
      "|         Condo|           Condo|260242.43557711283|\n",
      "|   Residential|     Four Family|383789.82076637825|\n",
      "|   Vacant Land|       Undefined| 417032.7176342025|\n",
      "|   Residential|      Two Family| 301357.3277251185|\n",
      "|    Commercial|       Undefined|1677886.2614080505|\n",
      "|  Three Family|    Three Family| 179844.5162084856|\n",
      "|     Undefined|       Undefined|415267.50899534574|\n",
      "|    Two Family|      Two Family|199096.43897007575|\n",
      "|   Residential|           Condo| 361254.1691745749|\n",
      "|   Residential|    Three Family|308016.99263316585|\n",
      "|   Four Family|     Four Family|314437.28571428574|\n",
      "|   Residential|   Single Family|  521401.878611132|\n",
      "|    Industrial|       Undefined|2238044.5635220124|\n",
      "|Public Utility|       Undefined|          213604.4|\n",
      "| Single Family|   Single Family|388601.55033495213|\n",
      "+--------------+----------------+------------------+\n",
      "\n"
     ]
    }
   ],
   "source": [
    "clean_df.groupBy(\"Property Type\", \"Residential Type\") \\\n",
    "  .agg({\"Sale Amount\": \"avg\"}) \\\n",
    "  .show()\n"
   ]
  },
  {
   "cell_type": "markdown",
   "id": "b20534e8-880f-4fb6-ac17-f9c4f7c58638",
   "metadata": {},
   "source": [
    "- Apartments: $2.95M\n",
    "  \n",
    "- Industrial: $2.24M\n",
    "\n",
    "  \n",
    "- Commercial: $1.68M\n",
    "\n",
    "  \n",
    "- Residential (Single Family): $521K\n",
    "\n",
    "    \n",
    "- Residential (Four Family): $384K\n",
    "\n",
    "  \n",
    "- Vacant Land: $417K\n",
    "\n",
    "  \n",
    "- Undefined types hover ~$415K\n",
    "\n",
    "  \n",
    "- Lower averages in Three/Two Family & Condo (~$180K–$360K)"
   ]
  },
  {
   "cell_type": "markdown",
   "id": "8c3b8d93-74d5-49ba-817d-230fb707ea37",
   "metadata": {},
   "source": [
    "#### 7. Which residential types demonstrate the strongest price appreciation trends over the years?"
   ]
  },
  {
   "cell_type": "code",
   "execution_count": 103,
   "id": "f829d75a-236d-419e-acda-2447c01d3a2a",
   "metadata": {},
   "outputs": [
    {
     "name": "stdout",
     "output_type": "stream",
     "text": [
      "+----------------+----+------------------+\n",
      "|Residential Type|Year|          avg_sale|\n",
      "+----------------+----+------------------+\n",
      "|           Condo|1999|           95000.0|\n",
      "|           Condo|2001|           88000.0|\n",
      "|           Condo|2004|210966.66666666666|\n",
      "|           Condo|2005|          138500.0|\n",
      "|           Condo|2006|244697.18428630193|\n",
      "|           Condo|2007|268362.33584320673|\n",
      "|           Condo|2008|253857.84299790018|\n",
      "|           Condo|2009|225202.00719952982|\n",
      "|           Condo|2010| 233047.9052268811|\n",
      "|           Condo|2011|220901.54331838564|\n",
      "|           Condo|2012|232790.09898135692|\n",
      "|           Condo|2013| 230723.6143569934|\n",
      "|           Condo|2014|241354.85729715135|\n",
      "|           Condo|2015| 231117.6593537618|\n",
      "|           Condo|2016|459960.51612141257|\n",
      "|           Condo|2017|246734.70676512626|\n",
      "|           Condo|2018|250676.81313769164|\n",
      "|           Condo|2019|263293.79590298503|\n",
      "|           Condo|2020|247167.04774604697|\n",
      "|           Condo|2021|425779.66806168837|\n",
      "+----------------+----+------------------+\n",
      "only showing top 20 rows\n",
      "\n"
     ]
    }
   ],
   "source": [
    "clean_df = clean_df.withColumn(\"Year\", year(\"Date Recorded\"))\n",
    "\n",
    "clean_df.groupBy(\"Residential Type\", \"Year\") \\\n",
    "  .agg(avg(\"Sale Amount\").alias(\"avg_sale\")) \\\n",
    "  .orderBy(\"Residential Type\", \"Year\") \\\n",
    "  .show()"
   ]
  },
  {
   "cell_type": "markdown",
   "id": "8ba97dd1-3b16-4ec3-a9b3-9e96e8325fc5",
   "metadata": {},
   "source": [
    "\n",
    "**Condo:**  \n",
    "- 1999 avg: $95K\n",
    "  \n",
    "- Steady rise with fluctuations\n",
    "\n",
    "  \n",
    "- Big jumps: 2016 ($460K), 2021 ($426K)\n",
    "\n",
    "  \n",
    "- Clear upward trend over years  "
   ]
  },
  {
   "cell_type": "markdown",
   "id": "a1ad071e-d8a0-47d0-bc3a-5db1d62159f3",
   "metadata": {},
   "source": [
    "#### 8. How do sales ratios (Sale Amount / Assessed Value) vary by property and residential type?"
   ]
  },
  {
   "cell_type": "code",
   "execution_count": 108,
   "id": "3e51efa4-fef1-44e0-bc59-f8f89decd11c",
   "metadata": {},
   "outputs": [
    {
     "name": "stdout",
     "output_type": "stream",
     "text": [
      "+--------------+----------------+---------------------+\n",
      "| Property Type|Residential Type|avg(Sales Ratio Calc)|\n",
      "+--------------+----------------+---------------------+\n",
      "|    Apartments|       Undefined|   2.2383061611213835|\n",
      "|         Condo|           Condo|   3.0544718302982385|\n",
      "|   Residential|     Four Family|    2.192101402173227|\n",
      "|   Vacant Land|       Undefined|    39.84027360278055|\n",
      "|   Residential|      Two Family|   2.0940316488663866|\n",
      "|    Commercial|       Undefined|   373.93571677012767|\n",
      "|  Three Family|    Three Family|    1.488899046781721|\n",
      "|     Undefined|       Undefined|   18.358014466689838|\n",
      "|    Two Family|      Two Family|   1.3785153567566686|\n",
      "|   Residential|           Condo|   55.806640425738394|\n",
      "|   Residential|    Three Family|    2.473646925891281|\n",
      "|   Four Family|     Four Family|   1.5297006036964562|\n",
      "|   Residential|   Single Family|   3.7573824059894414|\n",
      "|    Industrial|       Undefined|    2.691371008295352|\n",
      "|Public Utility|       Undefined|    5.206196911118471|\n",
      "| Single Family|   Single Family|   1.9136920614535577|\n",
      "+--------------+----------------+---------------------+\n",
      "\n"
     ]
    }
   ],
   "source": [
    "clean_df.withColumn(\"Sales Ratio Calc\", col(\"Sale Amount\") / col(\"Assessed Value\")) \\\n",
    "  .groupBy(\"Property Type\", \"Residential Type\") \\\n",
    "  .agg({\"Sales Ratio Calc\": \"avg\"}) \\\n",
    "  .show()"
   ]
  },
  {
   "cell_type": "markdown",
   "id": "8fa267d0-d427-458a-87e4-3ae299af0454",
   "metadata": {},
   "source": [
    "Sales ratios vary by property and residential type:\n",
    "\n",
    "- Highest ratios:  \n",
    "  - Commercial (Undefined): **373.94**  \n",
    "  - Vacant Land (Undefined): **39.84**  \n",
    "  - Residential - Condo: **55.81**\n",
    "\n",
    "- Moderate ratios:  \n",
    "  - Residential - Single Family: **3.76**  \n",
    "  - Condo - Condo: **3.05**  \n",
    "  - Public Utility: **5.21**  \n",
    "  - Industrial: **2.69**\n",
    "\n",
    "- Lower ratios (around 1.3 to 2.5):  \n",
    "  - Apartments, Residential (various family types), Two/Three/Four Family, Single Family"
   ]
  },
  {
   "cell_type": "markdown",
   "id": "e8603ec4-0f56-4573-bced-152b4ff1eae5",
   "metadata": {},
   "source": [
    "#### 9. How have average sale prices changed over the list years?"
   ]
  },
  {
   "cell_type": "code",
   "execution_count": 115,
   "id": "9f3a210f-5e7e-4c90-be1a-6dcfa407ed15",
   "metadata": {},
   "outputs": [
    {
     "name": "stdout",
     "output_type": "stream",
     "text": [
      "+---------+------------------+\n",
      "|List Year|  avg(Sale Amount)|\n",
      "+---------+------------------+\n",
      "|     2001|248341.23252310505|\n",
      "|     2002|297613.76168601715|\n",
      "|     2003|328180.04641758656|\n",
      "|     2004| 382815.4448291146|\n",
      "|     2005|365005.27087911195|\n",
      "|     2006|  475554.282661034|\n",
      "|     2007|435750.08272027853|\n",
      "|     2008|325831.08462149446|\n",
      "|     2009|  355250.327161946|\n",
      "|     2010|331657.47257472156|\n",
      "|     2011| 391684.3207468212|\n",
      "|     2012| 395708.6793285492|\n",
      "|     2013| 413516.2396414891|\n",
      "|     2014| 401421.9412196598|\n",
      "|     2015|345883.76394932583|\n",
      "|     2016|507761.24927169346|\n",
      "|     2017| 393755.8584190226|\n",
      "|     2018| 383992.7016063464|\n",
      "|     2019|420296.97130813857|\n",
      "|     2020| 526980.1025382191|\n",
      "+---------+------------------+\n",
      "only showing top 20 rows\n",
      "\n"
     ]
    }
   ],
   "source": [
    "clean_df.groupBy(\"List Year\") \\\n",
    "  .agg({\"Sale Amount\": \"avg\"}) \\\n",
    "  .orderBy(\"List Year\") \\\n",
    "  .show()\n"
   ]
  },
  {
   "cell_type": "markdown",
   "id": "5a8a4401-4a9f-4a05-a5cd-cdae95b17fa1",
   "metadata": {},
   "source": [
    "- Early 2000s: Steady rise from **$248,341** (2001) to around **$475,554** (2006).\n",
    "  \n",
    "- 2007-2010: Drop and fluctuation, lowest around **$325,831** (2008).\n",
    "\n",
    "  \n",
    "- 2011-2015: Moderate recovery, averaging between **$345,884**  and  **$413,516**.\n",
    "\n",
    "  \n",
    "- 2016 and 2020 show peaks at **$507,761**  and  **$526,980**, the highest values in the period.\n",
    "\n",
    "  \n",
    "- Some years show declines, e.g., 2017 and 2018 near **$383,993 - $393,756**."
   ]
  },
  {
   "cell_type": "markdown",
   "id": "5b34fa64-ac22-4ab2-8ad8-d085aba920e3",
   "metadata": {},
   "source": [
    "#### 10. Are there any notable spikes or dips in sale prices or volumes during specific years or market events?"
   ]
  },
  {
   "cell_type": "code",
   "execution_count": 116,
   "id": "fdad7d71-c576-4ba5-a88b-2ce06d598abf",
   "metadata": {},
   "outputs": [
    {
     "name": "stdout",
     "output_type": "stream",
     "text": [
      "+---------+------------------+--------+\n",
      "|List Year|  avg(Sale Amount)|count(1)|\n",
      "+---------+------------------+--------+\n",
      "|     2001|248341.23252310505|   59078|\n",
      "|     2002|297613.76168601715|   59430|\n",
      "|     2003|328180.04641758656|   64049|\n",
      "|     2004| 382815.4448291146|   83477|\n",
      "|     2005|365005.27087911195|   61437|\n",
      "|     2006|  475554.282661034|   48763|\n",
      "|     2007|435750.08272027853|   35614|\n",
      "|     2008|325831.08462149446|   32734|\n",
      "|     2009|  355250.327161946|   42508|\n",
      "|     2010|331657.47257472156|   33491|\n",
      "|     2011| 391684.3207468212|   31065|\n",
      "|     2012| 395708.6793285492|   35952|\n",
      "|     2013| 413516.2396414891|   39943|\n",
      "|     2014| 401421.9412196598|   49563|\n",
      "|     2015|345883.76394932583|   46651|\n",
      "|     2016|507761.24927169346|   49773|\n",
      "|     2017| 393755.8584190226|   45630|\n",
      "|     2018| 383992.7016063464|   50674|\n",
      "|     2019|420296.97130813857|   58954|\n",
      "|     2020| 526980.1025382191|   66590|\n",
      "+---------+------------------+--------+\n",
      "only showing top 20 rows\n",
      "\n"
     ]
    }
   ],
   "source": [
    "clean_df.groupBy(\"List Year\") \\\n",
    "  .agg({\"Sale Amount\": \"avg\", \"*\": \"count\"}) \\\n",
    "  .orderBy(\"List Year\") \\\n",
    "  .show()\n",
    "\n"
   ]
  },
  {
   "cell_type": "markdown",
   "id": "54838dd1-317d-4691-bfbf-3192fe746142",
   "metadata": {},
   "source": [
    "- **Price spikes:**  \n",
    "  - 2006: Average price jumps to **$475,554** from $365,005 in 2005, with volume dropping to 48,763 from 61,437.  \n",
    "  - 2016: Another spike to **$507,761** with volume steady at 49,773.\n",
    "    \n",
    "  - 2020: Highest average price **$526,980** with volume increasing to 66,590.\n",
    "\n",
    "- **Price dips:**  \n",
    "  - 2008: Average price drops sharply to **$325,831** during the financial crisis; volume decreases to 32,734.\n",
    "      \n",
    "  - 2010-2011: Prices remain relatively low ($331k-$391k) with lower volumes (31k-33k).\n",
    "\n",
    "- **Volume trends:**  \n",
    "  - Peak volume in 2004 at 83,477 sales, then steady decline till 2008.  \n",
    "  - Volume increases again from 2014 onwards, reaching 66,590 in 2020."
   ]
  }
 ],
 "metadata": {
  "kernelspec": {
   "display_name": "Python 3 (ipykernel)",
   "language": "python",
   "name": "python3"
  },
  "language_info": {
   "codemirror_mode": {
    "name": "ipython",
    "version": 3
   },
   "file_extension": ".py",
   "mimetype": "text/x-python",
   "name": "python",
   "nbconvert_exporter": "python",
   "pygments_lexer": "ipython3",
   "version": "3.12.7"
  }
 },
 "nbformat": 4,
 "nbformat_minor": 5
}
